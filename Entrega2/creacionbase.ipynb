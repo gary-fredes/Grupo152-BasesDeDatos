{
 "cells": [
  {
   "cell_type": "code",
   "execution_count": 1,
   "metadata": {},
   "outputs": [],
   "source": [
    "%load_ext sql"
   ]
  },
  {
   "cell_type": "code",
   "execution_count": 2,
   "metadata": {},
   "outputs": [],
   "source": [
    "%sql sqlite:///Delivery152.db"
   ]
  },
  {
   "cell_type": "code",
   "execution_count": 3,
   "metadata": {},
   "outputs": [
    {
     "name": "stdout",
     "output_type": "stream",
     "text": [
      " * sqlite:///Delivery152.db\n",
      "Done.\n",
      "Done.\n"
     ]
    },
    {
     "data": {
      "text/plain": [
       "[]"
      ]
     },
     "execution_count": 3,
     "metadata": {},
     "output_type": "execute_result"
    }
   ],
   "source": [
    "%%sql \n",
    "DROP TABLE IF EXISTS Unidades;\n",
    "CREATE TABLE Unidades(uid INT PRIMARY KEY, direccion INT, jefe INT, FOREIGN KEY (direccion) REFERENCES Direcciones(dirid), FOREIGN KEY (jefe) REFERENCES Personal(pid));"
   ]
  },
  {
   "cell_type": "code",
   "execution_count": 4,
   "metadata": {},
   "outputs": [
    {
     "name": "stdout",
     "output_type": "stream",
     "text": [
      " * sqlite:///Delivery152.db\n",
      "Done.\n",
      "Done.\n"
     ]
    },
    {
     "data": {
      "text/plain": [
       "[]"
      ]
     },
     "execution_count": 4,
     "metadata": {},
     "output_type": "execute_result"
    }
   ],
   "source": [
    "%%sql \n",
    "DROP TABLE IF EXISTS Vehiculos;\n",
    "CREATE TABLE Vehiculos(vid INT PRIMARY KEY, uid INT, patente VARCHAR(20) UNIQUE, estado VARCHAR(20) DEFAULT 'activo', tipo VARCHAR(20), FOREIGN KEY(uid) REFERENCES Unidades(uid));"
   ]
  },
  {
   "cell_type": "code",
   "execution_count": 5,
   "metadata": {},
   "outputs": [
    {
     "name": "stdout",
     "output_type": "stream",
     "text": [
      " * sqlite:///Delivery152.db\n",
      "Done.\n",
      "Done.\n"
     ]
    },
    {
     "data": {
      "text/plain": [
       "[]"
      ]
     },
     "execution_count": 5,
     "metadata": {},
     "output_type": "execute_result"
    }
   ],
   "source": [
    "%%sql \n",
    "DROP TABLE IF EXISTS Personal;\n",
    "CREATE TABLE Personal(pid INT PRIMARY KEY, nombre VARCHAR(200), rut VARCHAR(15), sexo VARCHAR(15), edad INT);"
   ]
  },
  {
   "cell_type": "code",
   "execution_count": 6,
   "metadata": {
    "scrolled": true
   },
   "outputs": [
    {
     "name": "stdout",
     "output_type": "stream",
     "text": [
      " * sqlite:///Delivery152.db\n",
      "Done.\n",
      "Done.\n"
     ]
    },
    {
     "data": {
      "text/plain": [
       "[]"
      ]
     },
     "execution_count": 6,
     "metadata": {},
     "output_type": "execute_result"
    }
   ],
   "source": [
    "%%sql \n",
    "DROP TABLE IF EXISTS Despachos;\n",
    "CREATE TABLE Despachos(did INT PRIMARY KEY, fecha DATE, origen INT, destino INT, idcompra INT, vid INT, rid INT, FOREIGN KEY (vid) REFERENCES Vehiculos(vid), FOREIGN KEY (rid) REFERENCES Repartidores(rid), FOREIGN KEY (origen) REFERENCES Direcciones(dirid), FOREIGN KEY (destino) REFERENCES Direcciones(dirid));"
   ]
  },
  {
   "cell_type": "code",
   "execution_count": 7,
   "metadata": {},
   "outputs": [
    {
     "name": "stdout",
     "output_type": "stream",
     "text": [
      " * sqlite:///Delivery152.db\n",
      "Done.\n",
      "Done.\n"
     ]
    },
    {
     "data": {
      "text/plain": [
       "[]"
      ]
     },
     "execution_count": 7,
     "metadata": {},
     "output_type": "execute_result"
    }
   ],
   "source": [
    "%%sql \n",
    "DROP TABLE IF EXISTS Carga;\n",
    "CREATE TABLE Carga(cid SERIAL PRIMARY KEY, vid INT, volumen FLOAT, carga FLOAT, FOREIGN KEY (vid) REFERENCES Vehiculos(vid));"
   ]
  },
  {
   "cell_type": "code",
   "execution_count": 8,
   "metadata": {},
   "outputs": [
    {
     "name": "stdout",
     "output_type": "stream",
     "text": [
      " * sqlite:///Delivery152.db\n",
      "Done.\n",
      "Done.\n"
     ]
    },
    {
     "data": {
      "text/plain": [
       "[]"
      ]
     },
     "execution_count": 8,
     "metadata": {},
     "output_type": "execute_result"
    }
   ],
   "source": [
    "%%sql \n",
    "DROP TABLE IF EXISTS CFria;\n",
    "CREATE TABLE CFria(cfid SERIAL PRIMARY KEY, vid INT, compartimientos INT, capacidad FLOAT, FOREIGN KEY (vid) REFERENCES Vehiculos(vid));"
   ]
  },
  {
   "cell_type": "code",
   "execution_count": 9,
   "metadata": {},
   "outputs": [
    {
     "name": "stdout",
     "output_type": "stream",
     "text": [
      " * sqlite:///Delivery152.db\n",
      "Done.\n",
      "Done.\n"
     ]
    },
    {
     "data": {
      "text/plain": [
       "[]"
      ]
     },
     "execution_count": 9,
     "metadata": {},
     "output_type": "execute_result"
    }
   ],
   "source": [
    "%%sql \n",
    "DROP TABLE IF EXISTS PFrescos;\n",
    "CREATE TABLE PFrescos(pfid SERIAL PRIMARY KEY, vid INT, alcance FLOAT, FOREIGN KEY (vid) REFERENCES Vehiculos(vid));"
   ]
  },
  {
   "cell_type": "code",
   "execution_count": 10,
   "metadata": {},
   "outputs": [
    {
     "name": "stdout",
     "output_type": "stream",
     "text": [
      " * sqlite:///Delivery152.db\n",
      "Done.\n",
      "Done.\n"
     ]
    },
    {
     "data": {
      "text/plain": [
       "[]"
      ]
     },
     "execution_count": 10,
     "metadata": {},
     "output_type": "execute_result"
    }
   ],
   "source": [
    "%%sql \n",
    "DROP TABLE IF EXISTS Administrativos;\n",
    "CREATE TABLE Administrativos(aid SERIAL PRIMARY KEY, pid INT, uid INT, clasificacion VARCHAR(20), FOREIGN KEY (pid) REFERENCES Personal(pid), FOREIGN KEY (uid) REFERENCES Unidades(uid));"
   ]
  },
  {
   "cell_type": "code",
   "execution_count": 11,
   "metadata": {},
   "outputs": [
    {
     "name": "stdout",
     "output_type": "stream",
     "text": [
      " * sqlite:///Delivery152.db\n",
      "Done.\n",
      "Done.\n"
     ]
    },
    {
     "data": {
      "text/plain": [
       "[]"
      ]
     },
     "execution_count": 11,
     "metadata": {},
     "output_type": "execute_result"
    }
   ],
   "source": [
    "%%sql \n",
    "DROP TABLE IF EXISTS Repartidores;\n",
    "CREATE TABLE Repartidores(rid SERIAL PRIMARY KEY, pid INT, vid INT, licencia VARCHAR(20), FOREIGN KEY(pid) REFERENCES Personal(pid), FOREIGN KEY(vid) REFERENCES Vehiculos(vid));"
   ]
  },
  {
   "cell_type": "code",
   "execution_count": 12,
   "metadata": {},
   "outputs": [
    {
     "name": "stdout",
     "output_type": "stream",
     "text": [
      " * sqlite:///Delivery152.db\n",
      "Done.\n",
      "Done.\n"
     ]
    },
    {
     "data": {
      "text/plain": [
       "[]"
      ]
     },
     "execution_count": 12,
     "metadata": {},
     "output_type": "execute_result"
    }
   ],
   "source": [
    "%%sql \n",
    "DROP TABLE IF EXISTS Comunas;\n",
    "CREATE TABLE Comunas(comid SERIAL PRIMARY KEY, nombre VARCHAR(20));"
   ]
  },
  {
   "cell_type": "code",
   "execution_count": 13,
   "metadata": {},
   "outputs": [
    {
     "name": "stdout",
     "output_type": "stream",
     "text": [
      " * sqlite:///Delivery152.db\n",
      "Done.\n",
      "(sqlite3.OperationalError) table Comunas already exists\n",
      "[SQL: CREATE TABLE Comunas(cuid SERIAL PRIMARY KEY, comid INT, uid INT, FOREIGN KEY(comid) REFERENCES Comunas(comid), FOREIGN KEY(uid) REFERENCES Unidades(uid));]\n",
      "(Background on this error at: http://sqlalche.me/e/13/e3q8)\n"
     ]
    }
   ],
   "source": [
    "%%sql \n",
    "DROP TABLE IF EXISTS Comunas_Unidades;\n",
    "CREATE TABLE Comunas_Unidades(cuid SERIAL PRIMARY KEY, comid INT, uid INT, FOREIGN KEY(comid) REFERENCES Comunas(comid), FOREIGN KEY(uid) REFERENCES Unidades(uid));"
   ]
  },
  {
   "cell_type": "code",
   "execution_count": 14,
   "metadata": {},
   "outputs": [
    {
     "name": "stdout",
     "output_type": "stream",
     "text": [
      " * sqlite:///Delivery152.db\n",
      "Done.\n",
      "Done.\n"
     ]
    },
    {
     "data": {
      "text/plain": [
       "[]"
      ]
     },
     "execution_count": 14,
     "metadata": {},
     "output_type": "execute_result"
    }
   ],
   "source": [
    "%%sql\n",
    "DROP TABLE IF EXISTS Direcciones;\n",
    "CREATE TABLE Direcciones(dirid SERIAL PRIMARY KEY, nombre VARCHAR(30), comid INT, FOREIGN KEY(comid) REFERENCES Comunas(comid));"
   ]
  },
  {
   "cell_type": "code",
   "execution_count": 15,
   "metadata": {},
   "outputs": [
    {
     "name": "stdout",
     "output_type": "stream",
     "text": [
      " * sqlite:///Delivery152.db\n",
      "Done.\n",
      "Done.\n"
     ]
    },
    {
     "data": {
      "text/plain": [
       "[]"
      ]
     },
     "execution_count": 15,
     "metadata": {},
     "output_type": "execute_result"
    }
   ],
   "source": [
    "%%sql\n",
    "DROP TABLE IF EXISTS Repartidores_Vehiculos;\n",
    "CREATE TABLE Repartidores_Vehiculos(rvid SERIAL PRIMARY KEY, rid INT, vid INT, FOREIGN KEY(rid) REFERENCES Repartidores(rid), FOREIGN KEY(vid) REFERENCES Vehiculos(vid));"
   ]
  }
 ],
 "metadata": {
  "kernelspec": {
   "display_name": "Python 3",
   "language": "python",
   "name": "python3"
  },
  "language_info": {
   "codemirror_mode": {
    "name": "ipython",
    "version": 3
   },
   "file_extension": ".py",
   "mimetype": "text/x-python",
   "name": "python",
   "nbconvert_exporter": "python",
   "pygments_lexer": "ipython3",
   "version": "3.7.5"
  }
 },
 "nbformat": 4,
 "nbformat_minor": 4
}
